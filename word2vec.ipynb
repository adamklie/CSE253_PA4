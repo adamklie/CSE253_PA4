{
 "cells": [
  {
   "cell_type": "code",
   "execution_count": 38,
   "metadata": {},
   "outputs": [],
   "source": [
    "import gensim\n",
    "from gensim.models import Word2Vec"
   ]
  },
  {
   "cell_type": "code",
   "execution_count": 39,
   "metadata": {},
   "outputs": [],
   "source": [
    "import pickle\n",
    "import argparse\n",
    "import nltk\n",
    "import pandas as pd\n",
    "from collections import Counter\n",
    "from pycocotools.coco import COCO"
   ]
  },
  {
   "cell_type": "markdown",
   "metadata": {},
   "source": [
    "## Get captions in training dataset"
   ]
  },
  {
   "cell_type": "code",
   "execution_count": 40,
   "metadata": {},
   "outputs": [
    {
     "name": "stdout",
     "output_type": "stream",
     "text": [
      "loading annotations into memory...\n",
      "Done (t=0.60s)\n",
      "creating index...\n",
      "index created!\n"
     ]
    }
   ],
   "source": [
    "coco = COCO(\"./data/annotations/captions_train2014.json\")\n",
    "captions = pd.DataFrame.from_dict(coco.anns)"
   ]
  },
  {
   "cell_type": "code",
   "execution_count": 41,
   "metadata": {},
   "outputs": [
    {
     "data": {
      "text/html": [
       "<div>\n",
       "<style scoped>\n",
       "    .dataframe tbody tr th:only-of-type {\n",
       "        vertical-align: middle;\n",
       "    }\n",
       "\n",
       "    .dataframe tbody tr th {\n",
       "        vertical-align: top;\n",
       "    }\n",
       "\n",
       "    .dataframe thead th {\n",
       "        text-align: right;\n",
       "    }\n",
       "</style>\n",
       "<table border=\"1\" class=\"dataframe\">\n",
       "  <thead>\n",
       "    <tr style=\"text-align: right;\">\n",
       "      <th></th>\n",
       "      <th>image_id</th>\n",
       "      <th>id</th>\n",
       "      <th>caption</th>\n",
       "    </tr>\n",
       "  </thead>\n",
       "  <tbody>\n",
       "    <tr>\n",
       "      <th>48</th>\n",
       "      <td>318556</td>\n",
       "      <td>48</td>\n",
       "      <td>A very clean and well decorated empty bathroom</td>\n",
       "    </tr>\n",
       "    <tr>\n",
       "      <th>67</th>\n",
       "      <td>116100</td>\n",
       "      <td>67</td>\n",
       "      <td>A panoramic view of a kitchen and all of its a...</td>\n",
       "    </tr>\n",
       "    <tr>\n",
       "      <th>126</th>\n",
       "      <td>318556</td>\n",
       "      <td>126</td>\n",
       "      <td>A blue and white bathroom with butterfly theme...</td>\n",
       "    </tr>\n",
       "    <tr>\n",
       "      <th>148</th>\n",
       "      <td>116100</td>\n",
       "      <td>148</td>\n",
       "      <td>A panoramic photo of a kitchen and dining room</td>\n",
       "    </tr>\n",
       "    <tr>\n",
       "      <th>173</th>\n",
       "      <td>379340</td>\n",
       "      <td>173</td>\n",
       "      <td>A graffiti-ed stop sign across the street from...</td>\n",
       "    </tr>\n",
       "  </tbody>\n",
       "</table>\n",
       "</div>"
      ],
      "text/plain": [
       "    image_id   id                                            caption\n",
       "48    318556   48     A very clean and well decorated empty bathroom\n",
       "67    116100   67  A panoramic view of a kitchen and all of its a...\n",
       "126   318556  126  A blue and white bathroom with butterfly theme...\n",
       "148   116100  148     A panoramic photo of a kitchen and dining room\n",
       "173   379340  173  A graffiti-ed stop sign across the street from..."
      ]
     },
     "execution_count": 41,
     "metadata": {},
     "output_type": "execute_result"
    }
   ],
   "source": [
    "captions=captions.T\n",
    "captions.head()"
   ]
  },
  {
   "cell_type": "code",
   "execution_count": 42,
   "metadata": {},
   "outputs": [],
   "source": [
    "ids=pd.read_csv(\"TrainImageIds.csv\")\n",
    "ids=[int(x) for x in ids.columns]"
   ]
  },
  {
   "cell_type": "code",
   "execution_count": 43,
   "metadata": {},
   "outputs": [
    {
     "data": {
      "text/html": [
       "<div>\n",
       "<style scoped>\n",
       "    .dataframe tbody tr th:only-of-type {\n",
       "        vertical-align: middle;\n",
       "    }\n",
       "\n",
       "    .dataframe tbody tr th {\n",
       "        vertical-align: top;\n",
       "    }\n",
       "\n",
       "    .dataframe thead th {\n",
       "        text-align: right;\n",
       "    }\n",
       "</style>\n",
       "<table border=\"1\" class=\"dataframe\">\n",
       "  <thead>\n",
       "    <tr style=\"text-align: right;\">\n",
       "      <th></th>\n",
       "      <th>image_id</th>\n",
       "      <th>id</th>\n",
       "      <th>caption</th>\n",
       "    </tr>\n",
       "  </thead>\n",
       "  <tbody>\n",
       "    <tr>\n",
       "      <th>67</th>\n",
       "      <td>116100</td>\n",
       "      <td>67</td>\n",
       "      <td>A panoramic view of a kitchen and all of its a...</td>\n",
       "    </tr>\n",
       "    <tr>\n",
       "      <th>148</th>\n",
       "      <td>116100</td>\n",
       "      <td>148</td>\n",
       "      <td>A panoramic photo of a kitchen and dining room</td>\n",
       "    </tr>\n",
       "    <tr>\n",
       "      <th>653</th>\n",
       "      <td>18691</td>\n",
       "      <td>653</td>\n",
       "      <td>A few people sit on a dim transportation system.</td>\n",
       "    </tr>\n",
       "    <tr>\n",
       "      <th>668</th>\n",
       "      <td>285579</td>\n",
       "      <td>668</td>\n",
       "      <td>A person, protected from the rain by their umb...</td>\n",
       "    </tr>\n",
       "    <tr>\n",
       "      <th>818</th>\n",
       "      <td>539984</td>\n",
       "      <td>818</td>\n",
       "      <td>A brown horse is grazing grass near a red house.</td>\n",
       "    </tr>\n",
       "  </tbody>\n",
       "</table>\n",
       "</div>"
      ],
      "text/plain": [
       "    image_id   id                                            caption\n",
       "67    116100   67  A panoramic view of a kitchen and all of its a...\n",
       "148   116100  148     A panoramic photo of a kitchen and dining room\n",
       "653    18691  653  A few people sit on a dim transportation system. \n",
       "668   285579  668  A person, protected from the rain by their umb...\n",
       "818   539984  818   A brown horse is grazing grass near a red house."
      ]
     },
     "execution_count": 43,
     "metadata": {},
     "output_type": "execute_result"
    }
   ],
   "source": [
    "filt_captions=captions[captions[\"image_id\"].isin(ids)]\n",
    "filt_captions.head()"
   ]
  },
  {
   "cell_type": "markdown",
   "metadata": {},
   "source": [
    "## Get word2vec embeddings"
   ]
  },
  {
   "cell_type": "code",
   "execution_count": 44,
   "metadata": {},
   "outputs": [],
   "source": [
    "sentences=[]\n",
    "\n",
    "for x in filt_captions[\"caption\"]:\n",
    "    tokens=nltk.tokenize.word_tokenize(x.lower())\n",
    "    sentences.append(tokens)"
   ]
  },
  {
   "cell_type": "code",
   "execution_count": 45,
   "metadata": {},
   "outputs": [],
   "source": [
    "model = Word2Vec(sentences,size=256, min_count=1)"
   ]
  },
  {
   "cell_type": "code",
   "execution_count": 46,
   "metadata": {},
   "outputs": [
    {
     "name": "stdout",
     "output_type": "stream",
     "text": [
      "Word2Vec(vocab=12567, size=256, alpha=0.025)\n"
     ]
    }
   ],
   "source": [
    "print(model)"
   ]
  },
  {
   "cell_type": "code",
   "execution_count": 47,
   "metadata": {
    "scrolled": true
   },
   "outputs": [
    {
     "name": "stderr",
     "output_type": "stream",
     "text": [
      "/opt/conda/lib/python3.7/site-packages/ipykernel_launcher.py:1: DeprecationWarning: Call to deprecated `__getitem__` (Method will be removed in 4.0.0, use self.wv.__getitem__() instead).\n",
      "  \"\"\"Entry point for launching an IPython kernel.\n"
     ]
    },
    {
     "data": {
      "text/plain": [
       "array([ 5.44866640e-03,  7.78626278e-03,  1.69322584e-02,  5.08261612e-03,\n",
       "       -4.14583803e-04, -6.74990891e-03,  8.31173919e-03,  5.98568656e-03,\n",
       "       -4.33492288e-03, -4.20297758e-04, -4.04012203e-03,  8.32135603e-03,\n",
       "       -1.64447178e-03, -8.09848367e-04,  3.32372612e-03,  8.75216909e-03,\n",
       "       -5.97423036e-03, -5.04401838e-03,  1.14105467e-03, -5.67083573e-03,\n",
       "       -1.47392938e-03, -3.28260288e-03, -1.39608672e-02, -6.47407817e-03,\n",
       "        9.09896742e-04, -3.85798700e-03,  4.13584197e-03,  9.27154068e-03,\n",
       "        4.05295752e-03,  2.44149669e-05,  5.80700627e-03,  2.80695432e-03,\n",
       "       -1.43665932e-02,  6.88454229e-03, -6.38931617e-03,  1.02491165e-03,\n",
       "        8.35133810e-03,  6.71062199e-03,  4.19907941e-04, -5.26678190e-03,\n",
       "       -5.84268104e-03, -4.58228821e-03,  1.22952973e-02,  2.94932444e-03,\n",
       "        4.17447789e-03,  4.09262581e-03, -1.14655653e-02,  8.16832544e-05,\n",
       "       -1.39878772e-03, -9.12812073e-04,  5.61878970e-03,  3.56877781e-03,\n",
       "       -3.78139084e-03, -8.23583640e-03,  1.06327981e-02, -1.36294100e-03,\n",
       "       -2.42959685e-03, -7.85876438e-03,  1.58029469e-03,  1.32412463e-02,\n",
       "        1.78626832e-03, -9.32772364e-03, -1.34048229e-02, -3.26291844e-03,\n",
       "       -3.11323302e-03,  6.55599823e-03, -5.47463587e-03, -8.47968552e-03,\n",
       "       -7.15396018e-04,  5.72778657e-03,  8.43352405e-04, -3.16013396e-03,\n",
       "        1.02026982e-03, -5.80442790e-03,  5.97888185e-03, -1.91855396e-03,\n",
       "       -1.68913149e-03,  5.72903082e-04,  9.11803264e-03,  1.30808027e-03,\n",
       "        1.79891698e-02, -1.08597362e-02,  4.05224925e-03, -3.40759452e-03,\n",
       "       -9.17008426e-03,  1.10602286e-02,  5.45911258e-03,  7.95659842e-04,\n",
       "        6.34610280e-03,  6.34451909e-03,  7.04484852e-03, -1.19438786e-02,\n",
       "        1.01829106e-02, -4.42683650e-03,  7.75288837e-03, -1.55620219e-03,\n",
       "        2.32884777e-03,  8.94708186e-03, -2.53304723e-03,  4.33087256e-03,\n",
       "       -1.86514226e-04,  7.90868144e-05,  1.65742997e-03,  7.42578041e-03,\n",
       "        6.43205177e-03, -5.62141649e-03,  6.48906594e-03,  3.48389219e-03,\n",
       "        5.00004552e-03, -2.54228897e-03, -2.85574701e-03,  1.38838179e-02,\n",
       "       -1.87674086e-04, -2.88899662e-03,  1.80713728e-03, -4.59803967e-03,\n",
       "       -4.21152404e-03, -1.64789637e-03,  3.33111617e-03, -3.77340009e-03,\n",
       "       -6.36926526e-03, -6.89467852e-05,  5.15252771e-03, -6.31512958e-04,\n",
       "        1.62140129e-03,  9.12841223e-03,  9.39981267e-03, -4.10007453e-03,\n",
       "       -1.18047989e-03,  2.37204647e-03, -4.67809429e-03,  1.71872694e-03,\n",
       "        9.38252825e-03,  9.02688596e-03, -1.91243028e-03,  3.74886949e-05,\n",
       "       -1.02380188e-02,  6.96303137e-03,  1.11782998e-02,  2.72470992e-03,\n",
       "        1.80235525e-04, -1.64182298e-03,  6.27259538e-03, -3.17945960e-04,\n",
       "       -8.13283958e-03,  4.56598401e-03,  8.12059443e-04, -8.63120542e-04,\n",
       "        1.38208841e-03, -4.80815955e-03, -6.47083111e-03, -3.98908462e-03,\n",
       "       -2.15314259e-03, -2.17924546e-03,  3.04884394e-04,  5.02756191e-03,\n",
       "       -6.01733895e-03, -6.95014093e-03,  5.65347401e-03,  8.08222964e-03,\n",
       "       -1.64561311e-03, -9.25172400e-03, -1.48205673e-02,  5.76429162e-03,\n",
       "        3.27178929e-03, -6.52829185e-03, -1.25283515e-02,  1.22274933e-02,\n",
       "       -6.33990346e-03,  3.02453153e-03, -2.96062836e-03,  4.51207720e-03,\n",
       "       -1.27731776e-02, -1.48355123e-03,  5.87582588e-03,  1.01547120e-02,\n",
       "        5.80203487e-03,  8.50809366e-03,  2.16175313e-03, -4.31477977e-03,\n",
       "       -2.41159461e-03, -1.17511710e-03,  4.67506470e-03,  4.66587069e-03,\n",
       "        1.28532555e-02, -1.10181058e-02,  4.27386770e-03, -5.91677427e-03,\n",
       "        2.90277507e-03,  1.62727125e-02, -4.85930219e-03,  5.88983111e-03,\n",
       "       -1.37849385e-02,  8.47193971e-03, -1.08632240e-02, -1.31112132e-02,\n",
       "       -5.14142308e-03,  4.18167468e-03,  8.83861503e-04,  1.13990381e-02,\n",
       "       -2.99961399e-03, -1.77132676e-03, -4.92251106e-03, -1.68676174e-03,\n",
       "        8.17577180e-04,  3.24494089e-03, -7.08031468e-03, -1.32011774e-03,\n",
       "       -6.77589196e-05, -4.00495389e-03,  9.14705824e-03, -4.09425562e-03,\n",
       "       -9.18591674e-03,  5.84735943e-04,  1.05564073e-02, -4.40042699e-03,\n",
       "        9.10013076e-03,  8.34716018e-03, -8.81837029e-03,  9.91448294e-03,\n",
       "       -4.12785588e-03,  4.91630053e-03,  4.47411498e-04, -6.29482325e-04,\n",
       "       -5.49715525e-03, -8.67837016e-03, -9.48793441e-03, -7.16406992e-03,\n",
       "        8.02865066e-03, -1.88123749e-03,  2.27629044e-03, -3.03681823e-03,\n",
       "        1.36365576e-04,  2.76080007e-03,  5.37292706e-03,  3.76909273e-04,\n",
       "        3.93920671e-03, -1.14558719e-03, -5.46983443e-04,  2.03124597e-03,\n",
       "       -3.64632928e-03, -6.15233148e-04,  5.65893808e-03,  3.24001740e-04,\n",
       "        7.11539341e-03, -1.67037151e-03, -3.68704298e-03,  3.15220328e-03,\n",
       "       -1.84763316e-03, -1.96456350e-03,  2.29006866e-03, -3.62668862e-03,\n",
       "       -1.47103528e-02,  8.85306485e-03, -1.54970004e-03,  2.24928372e-03],\n",
       "      dtype=float32)"
      ]
     },
     "execution_count": 47,
     "metadata": {},
     "output_type": "execute_result"
    }
   ],
   "source": [
    "model[\"orchestrating\"]"
   ]
  },
  {
   "cell_type": "code",
   "execution_count": 48,
   "metadata": {},
   "outputs": [],
   "source": [
    "model.wv.save_word2vec_format('word2vec.model.bin', binary=True)"
   ]
  },
  {
   "cell_type": "code",
   "execution_count": 36,
   "metadata": {},
   "outputs": [],
   "source": [
    "model = gensim.models.KeyedVectors.load_word2vec_format('word2vec.model.bin', binary=True)"
   ]
  },
  {
   "cell_type": "code",
   "execution_count": 37,
   "metadata": {
    "scrolled": true
   },
   "outputs": [
    {
     "data": {
      "text/plain": [
       "array([ 0.01205461, -0.01833498,  0.02455851,  0.00092925, -0.00562304,\n",
       "        0.00043357,  0.01463171,  0.01850286, -0.01136436,  0.01135348,\n",
       "       -0.01337052,  0.01292691,  0.00510718,  0.00223395, -0.01884581,\n",
       "        0.00152092,  0.00195047, -0.01488339,  0.02079125,  0.01067534,\n",
       "       -0.00300988, -0.00812828, -0.01823266,  0.01200487, -0.01770525,\n",
       "       -0.01725552,  0.00642528,  0.01892599,  0.00740643, -0.01393753,\n",
       "        0.01257138,  0.0103461 , -0.0078802 ,  0.01923333,  0.00306906,\n",
       "       -0.00128885,  0.00341946,  0.01590269, -0.00492797,  0.00658   ,\n",
       "       -0.01916674,  0.01166086,  0.00576859, -0.00199283,  0.00424741,\n",
       "        0.0012248 , -0.00816283, -0.01444382, -0.00252305, -0.00398955,\n",
       "        0.0006814 ,  0.0102491 , -0.00515129, -0.00935104,  0.01179864,\n",
       "        0.00092461,  0.00629285, -0.00614708,  0.00092957,  0.01848733,\n",
       "       -0.00229329, -0.01276232,  0.00312819, -0.01591261, -0.00581342,\n",
       "        0.00297201,  0.00741572, -0.02746999, -0.00858064, -0.0058814 ,\n",
       "       -0.00388899, -0.002075  ,  0.00789642,  0.00052751, -0.00865323,\n",
       "       -0.00915962,  0.00095933,  0.01144839, -0.01242687, -0.00279107,\n",
       "        0.00898659, -0.00445833, -0.00761076, -0.01486921, -0.00516696,\n",
       "        0.00073837, -0.00356692,  0.01346656, -0.01215733,  0.0048743 ,\n",
       "        0.00195414, -0.00509891,  0.00522751, -0.00156599,  0.00227355,\n",
       "       -0.0067929 , -0.0144733 ,  0.00126537, -0.01205715,  0.0089368 ],\n",
       "      dtype=float32)"
      ]
     },
     "execution_count": 37,
     "metadata": {},
     "output_type": "execute_result"
    }
   ],
   "source": [
    "model['orchestrating']"
   ]
  },
  {
   "cell_type": "code",
   "execution_count": null,
   "metadata": {},
   "outputs": [],
   "source": []
  },
  {
   "cell_type": "code",
   "execution_count": null,
   "metadata": {},
   "outputs": [],
   "source": []
  },
  {
   "cell_type": "code",
   "execution_count": null,
   "metadata": {},
   "outputs": [],
   "source": []
  },
  {
   "cell_type": "code",
   "execution_count": 48,
   "metadata": {},
   "outputs": [
    {
     "name": "stdout",
     "output_type": "stream",
     "text": [
      "[-0.0198124   0.00403214  0.01863487  0.00140835  0.00629108  0.00262589\n",
      "  0.00305537  0.0103415  -0.02235805  0.00371054  0.00608911 -0.016513\n",
      "  0.00095832  0.00326822 -0.00800401  0.01285153  0.01773841  0.00730178\n",
      "  0.00588541  0.00167226 -0.02761898  0.01106803 -0.0027543  -0.00245525\n",
      "  0.00580114  0.00851934 -0.01612504  0.01859374 -0.00065698 -0.0178295\n",
      "  0.01423899  0.0093177  -0.01491377 -0.01423898 -0.00945396 -0.02396948\n",
      " -0.0009068  -0.00767918 -0.00038746 -0.01618955  0.00608693  0.01190796\n",
      "  0.00244327  0.02831708  0.00450109 -0.0292737  -0.00566097 -0.01755272\n",
      " -0.01685097  0.0049314   0.00041349 -0.01053353  0.01785323  0.00438937\n",
      "  0.01207001  0.01006929  0.03905445  0.03000938 -0.03997581 -0.0152995\n",
      " -0.0112565   0.0047344   0.00169621  0.02271652  0.00115679 -0.00202081\n",
      "  0.00741793 -0.00726812 -0.00967692 -0.00258372  0.02003296  0.00398613\n",
      "  0.02779187 -0.01531116 -0.00620083  0.01189591 -0.02555749 -0.01354365\n",
      " -0.01565268 -0.01157285  0.0032087  -0.01240461 -0.01092846  0.02579979\n",
      "  0.00506275  0.00945635 -0.01838365 -0.00440301 -0.01788141 -0.01080833\n",
      "  0.00824108 -0.01673592 -0.0078773  -0.00340559  0.00714943 -0.00519442\n",
      " -0.01315661 -0.008057    0.00255366  0.01579083]\n"
     ]
    },
    {
     "name": "stderr",
     "output_type": "stream",
     "text": [
      "/opt/conda/lib/python3.7/site-packages/ipykernel_launcher.py:2: DeprecationWarning: Call to deprecated `__getitem__` (Method will be removed in 4.0.0, use self.wv.__getitem__() instead).\n",
      "  \n"
     ]
    }
   ],
   "source": [
    "words = list(model.wv.vocab)\n",
    "print(model['orchestrating'])"
   ]
  },
  {
   "cell_type": "code",
   "execution_count": null,
   "metadata": {},
   "outputs": [],
   "source": []
  },
  {
   "cell_type": "code",
   "execution_count": null,
   "metadata": {},
   "outputs": [],
   "source": []
  },
  {
   "cell_type": "code",
   "execution_count": null,
   "metadata": {},
   "outputs": [],
   "source": []
  },
  {
   "cell_type": "code",
   "execution_count": null,
   "metadata": {},
   "outputs": [],
   "source": []
  },
  {
   "cell_type": "code",
   "execution_count": null,
   "metadata": {},
   "outputs": [],
   "source": []
  },
  {
   "cell_type": "code",
   "execution_count": null,
   "metadata": {},
   "outputs": [],
   "source": []
  },
  {
   "cell_type": "code",
   "execution_count": null,
   "metadata": {},
   "outputs": [],
   "source": []
  },
  {
   "cell_type": "code",
   "execution_count": null,
   "metadata": {},
   "outputs": [],
   "source": []
  },
  {
   "cell_type": "code",
   "execution_count": null,
   "metadata": {},
   "outputs": [],
   "source": []
  },
  {
   "cell_type": "code",
   "execution_count": null,
   "metadata": {},
   "outputs": [],
   "source": []
  },
  {
   "cell_type": "code",
   "execution_count": null,
   "metadata": {},
   "outputs": [],
   "source": []
  },
  {
   "cell_type": "code",
   "execution_count": null,
   "metadata": {},
   "outputs": [],
   "source": []
  },
  {
   "cell_type": "code",
   "execution_count": null,
   "metadata": {},
   "outputs": [],
   "source": []
  },
  {
   "cell_type": "code",
   "execution_count": null,
   "metadata": {},
   "outputs": [],
   "source": []
  },
  {
   "cell_type": "code",
   "execution_count": 139,
   "metadata": {},
   "outputs": [],
   "source": [
    "import pickle\n",
    "import random"
   ]
  },
  {
   "cell_type": "code",
   "execution_count": 64,
   "metadata": {},
   "outputs": [],
   "source": [
    "file = open('./data/vocab.pkl', 'rb')"
   ]
  },
  {
   "cell_type": "code",
   "execution_count": 65,
   "metadata": {},
   "outputs": [],
   "source": [
    "data = pickle.load(file)"
   ]
  },
  {
   "cell_type": "code",
   "execution_count": 190,
   "metadata": {},
   "outputs": [],
   "source": [
    "im=Image.open(\"./data/images/train/COCO_train2014_000000000077.jpg\")"
   ]
  },
  {
   "cell_type": "code",
   "execution_count": 191,
   "metadata": {},
   "outputs": [],
   "source": [
    "w,h=im.size"
   ]
  },
  {
   "cell_type": "code",
   "execution_count": 192,
   "metadata": {},
   "outputs": [
    {
     "data": {
      "text/plain": [
       "(500, 375)"
      ]
     },
     "execution_count": 192,
     "metadata": {},
     "output_type": "execute_result"
    }
   ],
   "source": [
    "w,h"
   ]
  },
  {
   "cell_type": "code",
   "execution_count": 193,
   "metadata": {},
   "outputs": [],
   "source": [
    "d1,d2=[256,256]"
   ]
  },
  {
   "cell_type": "code",
   "execution_count": 197,
   "metadata": {},
   "outputs": [],
   "source": [
    "left=random.randint(0,w-d1)\n",
    "top=random.randint(0,h-d2)\n",
    "right=left+d1\n",
    "bottom=top+d2"
   ]
  },
  {
   "cell_type": "code",
   "execution_count": null,
   "metadata": {},
   "outputs": [],
   "source": []
  },
  {
   "cell_type": "code",
   "execution_count": 198,
   "metadata": {},
   "outputs": [],
   "source": [
    "im1 = im.crop((left,top,right,bottom))"
   ]
  },
  {
   "cell_type": "code",
   "execution_count": 199,
   "metadata": {},
   "outputs": [],
   "source": [
    "im1.save(\"test.jpg\")"
   ]
  },
  {
   "cell_type": "code",
   "execution_count": null,
   "metadata": {},
   "outputs": [],
   "source": []
  },
  {
   "cell_type": "code",
   "execution_count": null,
   "metadata": {},
   "outputs": [],
   "source": []
  },
  {
   "cell_type": "code",
   "execution_count": null,
   "metadata": {},
   "outputs": [],
   "source": []
  },
  {
   "cell_type": "code",
   "execution_count": null,
   "metadata": {},
   "outputs": [],
   "source": []
  },
  {
   "cell_type": "code",
   "execution_count": null,
   "metadata": {},
   "outputs": [],
   "source": []
  },
  {
   "cell_type": "code",
   "execution_count": null,
   "metadata": {},
   "outputs": [],
   "source": []
  },
  {
   "cell_type": "code",
   "execution_count": null,
   "metadata": {},
   "outputs": [],
   "source": []
  },
  {
   "cell_type": "code",
   "execution_count": null,
   "metadata": {},
   "outputs": [],
   "source": []
  },
  {
   "cell_type": "code",
   "execution_count": null,
   "metadata": {},
   "outputs": [],
   "source": []
  },
  {
   "cell_type": "code",
   "execution_count": 137,
   "metadata": {},
   "outputs": [],
   "source": [
    "im1 = im.crop((left,top,right,bottom))"
   ]
  },
  {
   "cell_type": "code",
   "execution_count": 138,
   "metadata": {},
   "outputs": [],
   "source": [
    "im1.save(\"test.jpg\")"
   ]
  }
 ],
 "metadata": {
  "kernelspec": {
   "display_name": "Python 3",
   "language": "python",
   "name": "python3"
  },
  "language_info": {
   "codemirror_mode": {
    "name": "ipython",
    "version": 3
   },
   "file_extension": ".py",
   "mimetype": "text/x-python",
   "name": "python",
   "nbconvert_exporter": "python",
   "pygments_lexer": "ipython3",
   "version": "3.7.3"
  }
 },
 "nbformat": 4,
 "nbformat_minor": 2
}
